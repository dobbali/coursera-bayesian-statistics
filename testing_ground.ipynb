{
 "cells": [
  {
   "cell_type": "code",
   "execution_count": 3,
   "metadata": {},
   "outputs": [],
   "source": [
    "import numpy as np\n",
    "from scipy import stats\n",
    "import scipy\n",
    "import matplotlib.pyplot as plt"
   ]
  },
  {
   "cell_type": "markdown",
   "metadata": {},
   "source": [
    "### Python implementation of inferential statistics : Frequentist Approach"
   ]
  },
  {
   "cell_type": "code",
   "execution_count": null,
   "metadata": {},
   "outputs": [],
   "source": []
  },
  {
   "cell_type": "code",
   "execution_count": null,
   "metadata": {},
   "outputs": [],
   "source": []
  },
  {
   "cell_type": "code",
   "execution_count": null,
   "metadata": {},
   "outputs": [],
   "source": []
  },
  {
   "cell_type": "code",
   "execution_count": null,
   "metadata": {},
   "outputs": [],
   "source": []
  },
  {
   "cell_type": "markdown",
   "metadata": {},
   "source": [
    "### Python implementation of inferential statistics : Bayesian Approach"
   ]
  },
  {
   "cell_type": "code",
   "execution_count": null,
   "metadata": {},
   "outputs": [],
   "source": []
  },
  {
   "cell_type": "code",
   "execution_count": null,
   "metadata": {},
   "outputs": [],
   "source": []
  },
  {
   "cell_type": "code",
   "execution_count": null,
   "metadata": {},
   "outputs": [],
   "source": []
  },
  {
   "cell_type": "code",
   "execution_count": null,
   "metadata": {},
   "outputs": [],
   "source": []
  },
  {
   "cell_type": "markdown",
   "metadata": {},
   "source": [
    "## Question : Inference Problem\n",
    "\n",
    "We have population of M&Ms. Percentage of yellow M&Ms is either 10% or 20%. <br>\n",
    "Is the true percentage of Yellow M&Ms is 10% or 20%. \n",
    "<br>\n",
    "Each M&Ms is USD200 and you have a budget of USD4000. As data collection is expensive we stick with 5 M&Ms as a sample.\n"
   ]
  },
  {
   "cell_type": "markdown",
   "metadata": {},
   "source": [
    "### Python implementation of inferential statistics for proportions: Frequentist Approach"
   ]
  },
  {
   "cell_type": "markdown",
   "metadata": {},
   "source": [
    "<strong>Null Hypoteses:\n",
    "    \n",
    "H0 : 10% of yellow M&Ms<br>\n",
    "H1 : >10% yellow M&Ms\n",
    "<br>\n",
    "significance level : 0.05 (The probaility of rejecting a Null Hypothesis when the Null is actually true - Type 1 error). This is a complement of confidence level\n",
    "<br>\n",
    "sample size : n = 5<br>\n",
    "Total yellow M&Ms in the sample : K = 1<br>\n"
   ]
  },
  {
   "cell_type": "code",
   "execution_count": 55,
   "metadata": {},
   "outputs": [
    {
     "name": "stdout",
     "output_type": "stream",
     "text": [
      "0.28807506101528946\n",
      "0.5761501220305789\n",
      "lower-ci : 0.2, upper-ci :0.0\n"
     ]
    }
   ],
   "source": [
    "sig = 0.05\n",
    "confidence_level = 0.95\n",
    "n = 5 # sample size \n",
    "k = 1 # successes in sample\n",
    "p0 = 0.2\n",
    "p = 0.1\n",
    "\n",
    "# Calculating standard error \n",
    "se = np.sqrt((p0 * (1-p0))/n)\n",
    "\n",
    "# Calculating z score\n",
    "z = (p - p0)/se  #observerd - hypothesed divded by standard error\n",
    "\n",
    "# Instead of looking into a p value table we are using scipy module\n",
    "p_values = scipy.stats.norm.sf(abs(z)) #one-sided\n",
    "print(p_values)\n",
    "\n",
    "\n",
    "p_values = scipy.stats.norm.sf(abs(z))*2 #twosided\n",
    "print(p_values)\n",
    "\n",
    "# Confidence intervals \n",
    "lower_ci = p - z *(se)\n",
    "upper_ci = p + z *(se)\n",
    "\n",
    "\n",
    "print(\"lower-ci : {}, upper-ci :{}\".format(lower_ci, upper_ci))"
   ]
  },
  {
   "cell_type": "markdown",
   "metadata": {},
   "source": [
    "<strong>Other example:</strong>\n",
    "\n",
    "https://onlinecourses.science.psu.edu/statprogram/node/164/\n",
    "\n",
    "Newborn babies are more likely to be boys than girls. A random sample found 13,173 boys were born among 25,468 newborn children. The sample proportion of boys was 0.5172. Is this sample evidence that the birth of boys is more common than the birth of girls in the entire population?\n",
    "<br>\n",
    "\n",
    "H0 : boy_prop is 0.5<br>\n",
    "H1 : boy_prop is greater that 0.5"
   ]
  },
  {
   "cell_type": "code",
   "execution_count": 5,
   "metadata": {},
   "outputs": [
    {
     "name": "stdout",
     "output_type": "stream",
     "text": [
      "Pvalues, one-sided : 0.07502982601761234\n",
      "Pvalues, two-sided : 0.15005965203522467\n",
      "lower-ci : 0.993, upper-ci :0.9954\n"
     ]
    }
   ],
   "source": [
    "sig = 0.05\n",
    "confidence_level = 0.95\n",
    "n = 999 # sample size \n",
    "k = 6000 # successes in sample\n",
    "p = k/n\n",
    "p0 = 0.\n",
    "\n",
    "\n",
    "# Calculating standard error \n",
    "se = np.sqrt((p0 * (1-p0))/n)\n",
    "\n",
    "# Calculating z score\n",
    "z = (p - p0)/se  #observerd - hypothesed divded by standard error\n",
    "\n",
    "# Instead of looking into a p value table we are using scipy module\n",
    "p_values = scipy.stats.norm.sf(abs(z)) #one-sided\n",
    "print(\"Pvalues, one-sided : {}\".format(p_values))\n",
    "\n",
    "\n",
    "p_values = scipy.stats.norm.sf(abs(z))*2 #twosided\n",
    "print(\"Pvalues, two-sided : {}\".format(p_values))\n",
    "\n",
    "# Confidence intervals \n",
    "lower_ci = p - z *(se)\n",
    "upper_ci = p + z *(se)\n",
    "\n",
    "\n",
    "print(\"lower-ci : {}, upper-ci :{}\".format(lower_ci, upper_ci))"
   ]
  },
  {
   "cell_type": "code",
   "execution_count": 47,
   "metadata": {},
   "outputs": [
    {
     "data": {
      "image/png": "[encoded data removed]",
      "text/plain": [
       "<Figure size 432x288 with 1 Axes>"
      ]
     },
     "metadata": {},
     "output_type": "display_data"
    }
   ],
   "source": [
    "def draw_z_score(x, cond, mu, sigma, title):\n",
    "    y = stats.norm.pdf(x, mu, sigma)\n",
    "    z = x[cond]\n",
    "    plt.plot(x, y)\n",
    "    plt.fill_between(z, 0, stats.norm.pdf(z, mu, sigma))\n",
    "    plt.title(title)\n",
    "    plt.show()\n",
    "    \n",
    "x = np.arange(-3,3,0.001)\n",
    "z0 = -0.9\n",
    "draw_z_score(x, x<z0, 0, 1, 'z<-0.75')"
   ]
  },
  {
   "cell_type": "markdown",
   "metadata": {},
   "source": [
    "### Python implementation of inferential statistics for proportions: Bayesian Approach"
   ]
  },
  {
   "cell_type": "code",
   "execution_count": null,
   "metadata": {},
   "outputs": [],
   "source": []
  },
  {
   "cell_type": "code",
   "execution_count": null,
   "metadata": {},
   "outputs": [],
   "source": []
  },
  {
   "cell_type": "code",
   "execution_count": null,
   "metadata": {},
   "outputs": [],
   "source": []
  },
  {
   "cell_type": "code",
   "execution_count": null,
   "metadata": {},
   "outputs": [],
   "source": []
  },
  {
   "cell_type": "markdown",
   "metadata": {},
   "source": [
    "### DOUBTS?"
   ]
  },
  {
   "cell_type": "markdown",
   "metadata": {},
   "source": [
    "1. np >= 10 and npis not met "
   ]
  }
 ],
 "metadata": {
  "kernelspec": {
   "display_name": "Python 3",
   "language": "python",
   "name": "python3"
  },
  "language_info": {
   "codemirror_mode": {
    "name": "ipython",
    "version": 3
   },
   "file_extension": ".py",
   "mimetype": "text/x-python",
   "name": "python",
   "nbconvert_exporter": "python",
   "pygments_lexer": "ipython3",
   "version": "3.6.5"
  }
 },
 "nbformat": 4,
 "nbformat_minor": 2
}
